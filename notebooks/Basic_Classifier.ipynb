{
 "cells": [
  {
   "cell_type": "markdown",
   "id": "2a298f18-ca52-4c47-b2b8-e2ed37d94d82",
   "metadata": {},
   "source": [
    "# NBA Winner Prediction Model"
   ]
  },
  {
   "cell_type": "code",
   "execution_count": 159,
   "id": "703e2937-0a27-4fee-9d51-387cdac9e693",
   "metadata": {},
   "outputs": [],
   "source": [
    "# Load libraries\n",
    "import matplotlib.pyplot as plt\n",
    "import numpy as np\n",
    "import pandas as pd\n",
    "from sklearn.metrics import f1_score, make_scorer,  confusion_matrix, classification_report\n",
    "import warnings\n",
    "warnings.filterwarnings(\"ignore\")"
   ]
  },
  {
   "cell_type": "code",
   "execution_count": 103,
   "id": "ee54977a-1bbf-4b8c-a213-40f825b89817",
   "metadata": {},
   "outputs": [],
   "source": [
    "# Load the dataset: NBA statistics from the 2013-2014 basketball season\n",
    "df_results_2020 = pd.read_csv(\"C:\\\\Users\\\\makar\\\\Final-LHL-Project\\\\data\\\\NBA_Results_19_20.csv\", parse_dates = ['DATE'])"
   ]
  },
  {
   "cell_type": "code",
   "execution_count": 104,
   "id": "7fe9448b-0150-46fa-ad9f-7a834daaeeab",
   "metadata": {},
   "outputs": [],
   "source": [
    "scorer = make_scorer(f1_score, pos_label = None, average = 'weighted')"
   ]
  },
  {
   "cell_type": "code",
   "execution_count": 105,
   "id": "fddaf481-bb30-4b44-999c-f028aa056105",
   "metadata": {},
   "outputs": [
    {
     "data": {
      "text/html": [
       "<div>\n",
       "<style scoped>\n",
       "    .dataframe tbody tr th:only-of-type {\n",
       "        vertical-align: middle;\n",
       "    }\n",
       "\n",
       "    .dataframe tbody tr th {\n",
       "        vertical-align: top;\n",
       "    }\n",
       "\n",
       "    .dataframe thead th {\n",
       "        text-align: right;\n",
       "    }\n",
       "</style>\n",
       "<table border=\"1\" class=\"dataframe\">\n",
       "  <thead>\n",
       "    <tr style=\"text-align: right;\">\n",
       "      <th></th>\n",
       "      <th>DATE</th>\n",
       "      <th>VISITOR</th>\n",
       "      <th>AWAY_PTS</th>\n",
       "      <th>HOME</th>\n",
       "      <th>HOME_PTS</th>\n",
       "      <th>ATTENDANCE</th>\n",
       "      <th>ARENA</th>\n",
       "    </tr>\n",
       "  </thead>\n",
       "  <tbody>\n",
       "    <tr>\n",
       "      <th>0</th>\n",
       "      <td>2019-10-22</td>\n",
       "      <td>New Orleans Pelicans</td>\n",
       "      <td>122</td>\n",
       "      <td>Toronto Raptors</td>\n",
       "      <td>130</td>\n",
       "      <td>20787.0</td>\n",
       "      <td>Scotiabank Arena</td>\n",
       "    </tr>\n",
       "    <tr>\n",
       "      <th>1</th>\n",
       "      <td>2019-10-22</td>\n",
       "      <td>Los Angeles Lakers</td>\n",
       "      <td>102</td>\n",
       "      <td>Los Angeles Clippers</td>\n",
       "      <td>112</td>\n",
       "      <td>19068.0</td>\n",
       "      <td>STAPLES Center</td>\n",
       "    </tr>\n",
       "    <tr>\n",
       "      <th>2</th>\n",
       "      <td>2019-10-23</td>\n",
       "      <td>Chicago Bulls</td>\n",
       "      <td>125</td>\n",
       "      <td>Charlotte Hornets</td>\n",
       "      <td>126</td>\n",
       "      <td>15424.0</td>\n",
       "      <td>Spectrum Center</td>\n",
       "    </tr>\n",
       "    <tr>\n",
       "      <th>3</th>\n",
       "      <td>2019-10-23</td>\n",
       "      <td>Detroit Pistons</td>\n",
       "      <td>119</td>\n",
       "      <td>Indiana Pacers</td>\n",
       "      <td>110</td>\n",
       "      <td>17923.0</td>\n",
       "      <td>Bankers Life Fieldhouse</td>\n",
       "    </tr>\n",
       "    <tr>\n",
       "      <th>4</th>\n",
       "      <td>2019-10-23</td>\n",
       "      <td>Cleveland Cavaliers</td>\n",
       "      <td>85</td>\n",
       "      <td>Orlando Magic</td>\n",
       "      <td>94</td>\n",
       "      <td>18846.0</td>\n",
       "      <td>Amway Center</td>\n",
       "    </tr>\n",
       "  </tbody>\n",
       "</table>\n",
       "</div>"
      ],
      "text/plain": [
       "        DATE               VISITOR  AWAY_PTS                  HOME  HOME_PTS  \\\n",
       "0 2019-10-22  New Orleans Pelicans       122       Toronto Raptors       130   \n",
       "1 2019-10-22    Los Angeles Lakers       102  Los Angeles Clippers       112   \n",
       "2 2019-10-23         Chicago Bulls       125     Charlotte Hornets       126   \n",
       "3 2019-10-23       Detroit Pistons       119        Indiana Pacers       110   \n",
       "4 2019-10-23   Cleveland Cavaliers        85         Orlando Magic        94   \n",
       "\n",
       "   ATTENDANCE                    ARENA  \n",
       "0     20787.0         Scotiabank Arena  \n",
       "1     19068.0           STAPLES Center  \n",
       "2     15424.0          Spectrum Center  \n",
       "3     17923.0  Bankers Life Fieldhouse  \n",
       "4     18846.0             Amway Center  "
      ]
     },
     "execution_count": 105,
     "metadata": {},
     "output_type": "execute_result"
    }
   ],
   "source": [
    "# Examine the dataset with its initial formatting\n",
    "df_results_2020.head()"
   ]
  },
  {
   "cell_type": "code",
   "execution_count": 106,
   "id": "b282f851-9030-4fdb-a9a1-9174badf805f",
   "metadata": {},
   "outputs": [
    {
     "data": {
      "text/plain": [
       "(1059, 7)"
      ]
     },
     "execution_count": 106,
     "metadata": {},
     "output_type": "execute_result"
    }
   ],
   "source": [
    "df_results_2020.shape"
   ]
  },
  {
   "cell_type": "markdown",
   "id": "08a1a165-a371-4af9-927c-0b5831a50dbc",
   "metadata": {},
   "source": [
    "## Baseline Model - Home-Court Advantage \n",
    "\n",
    "\"In basketball, the phrase “home-court advantage” typically refers to the physical and psychological benefits that a player experiences when competing in his own arena.\"\n",
    "\n",
    "https://www.samford.edu/sports-analytics/fans/2019/Quantifying-the-Home-Court-Advantage-in-the-NBA-Playoffs"
   ]
  },
  {
   "cell_type": "code",
   "execution_count": 107,
   "id": "f0c6be6d-1582-4db8-bed4-fcd01061681c",
   "metadata": {},
   "outputs": [],
   "source": [
    "# Generate a new feature that notes whether the home team won\n",
    "df_results_2020['HOME_WIN'] = df_results_2020['AWAY_PTS'] < df_results_2020['HOME_PTS']\n",
    "\n",
    "# This will also be the value that we want to predict \n",
    "y_true = df_results_2020['HOME_WIN'].values"
   ]
  },
  {
   "cell_type": "code",
   "execution_count": 108,
   "id": "46ae34b5-ae2f-4e17-93c9-5d54d8a00a8f",
   "metadata": {},
   "outputs": [
    {
     "data": {
      "text/plain": [
       "DATE           0\n",
       "VISITOR        0\n",
       "AWAY_PTS       0\n",
       "HOME           0\n",
       "HOME_PTS       0\n",
       "ATTENDANCE    88\n",
       "ARENA          0\n",
       "HOME_WIN       0\n",
       "dtype: int64"
      ]
     },
     "execution_count": 108,
     "metadata": {},
     "output_type": "execute_result"
    }
   ],
   "source": [
    "df_results_2020.isnull().sum()"
   ]
  },
  {
   "cell_type": "code",
   "execution_count": 109,
   "id": "8a5eea73-dae8-4188-8ee1-e8100cdc77ea",
   "metadata": {},
   "outputs": [
    {
     "name": "stdout",
     "output_type": "stream",
     "text": [
      "Home Win percentage: 55.15%\n"
     ]
    }
   ],
   "source": [
    "# Baseline win percentage of Home Teams overall\n",
    "n_games = df_results_2020['HOME_WIN'].count()\n",
    "n_homewins = df_results_2020['HOME_WIN'].sum()\n",
    "win_percentage = n_homewins / n_games\n",
    "\n",
    "print('Home Win percentage: {0:.2f}%'.format(100 * win_percentage))"
   ]
  },
  {
   "cell_type": "markdown",
   "id": "c2ed484b-1b97-442d-a264-0003a5a3a1c8",
   "metadata": {},
   "source": [
    "The home teams' win percentage is 55%. For a model to be considered robust, it must at least have a better score than the baseline model."
   ]
  },
  {
   "cell_type": "code",
   "execution_count": 110,
   "id": "df9ddd8f-699a-491b-baf0-6328601d2c3f",
   "metadata": {},
   "outputs": [
    {
     "name": "stdout",
     "output_type": "stream",
     "text": [
      "F1: 39.20%\n"
     ]
    }
   ],
   "source": [
    "# Predicting the baseline for Home Teams wins with simple classifier\n",
    "y_pred = [1] * len(y_true)\n",
    "print('F1: {0:.2f}%'.format(f1_score(y_true, y_pred, pos_label = None, average = 'weighted') * 100))"
   ]
  },
  {
   "cell_type": "markdown",
   "id": "f2af9fca-2acf-4186-941d-19b3260de8ab",
   "metadata": {},
   "source": [
    "## Decision Tree Classification\n",
    "\n",
    "### Feature Engineering - LAST_WIN\n",
    "\n",
    "Let's add features that determine whether home and visitor teams won their last game."
   ]
  },
  {
   "cell_type": "code",
   "execution_count": 111,
   "id": "8817614d-63f4-478a-960b-2dcc5421bdae",
   "metadata": {},
   "outputs": [],
   "source": [
    "df_results_2020['HOME_LAST_WIN'] = False\n",
    "df_results_2020['VISITOR_LAST_WIN'] = False"
   ]
  },
  {
   "cell_type": "code",
   "execution_count": 112,
   "id": "91b82325-45a2-4f07-b1da-ba33a656d89a",
   "metadata": {},
   "outputs": [],
   "source": [
    "from collections import defaultdict\n",
    "\n",
    "won_last = defaultdict(int)   # The default value of int is 0\n",
    "\n",
    "# Inefficient method to deterime previous wins\n",
    "for index, row in df_results_2020.iterrows():\n",
    "    home_team = row['HOME']\n",
    "    away_team = row['VISITOR']\n",
    "    row['HOME_LAST_WIN'] = won_last[home_team]\n",
    "    row['VISITOR_LAST_WIN'] = won_last[away_team]\n",
    "    df_results_2020.loc[index] = row\n",
    "    # Set current win\n",
    "    won_last[home_team] = row['HOME_WIN']\n",
    "    won_last[away_team] = not row['HOME_WIN']"
   ]
  },
  {
   "cell_type": "code",
   "execution_count": 113,
   "id": "bdc01d55-378f-473b-955d-522838d72bb7",
   "metadata": {},
   "outputs": [],
   "source": [
    "df_results_2020['HOME_LAST_WIN'].replace([0], False, inplace=True)\n",
    "df_results_2020['VISITOR_LAST_WIN'].replace([0], False, inplace=True)"
   ]
  },
  {
   "cell_type": "code",
   "execution_count": 114,
   "id": "8c5bb4a3-7b90-42ae-ae02-1053d02e66a1",
   "metadata": {},
   "outputs": [],
   "source": [
    "from sklearn.tree import DecisionTreeClassifier\n",
    "dtc = DecisionTreeClassifier(random_state = 42)"
   ]
  },
  {
   "cell_type": "code",
   "execution_count": 115,
   "id": "599dc7fa-f10c-49cf-bab1-4561d016bfad",
   "metadata": {},
   "outputs": [
    {
     "name": "stdout",
     "output_type": "stream",
     "text": [
      "Using the previous results of the home and visitor teams\n",
      "F1: 53.93%\n"
     ]
    }
   ],
   "source": [
    "from sklearn.model_selection import cross_val_score\n",
    "\n",
    "# Use selected features as input for the classifier (target)\n",
    "X_wins = df_results_2020[['HOME_LAST_WIN', 'VISITOR_LAST_WIN']].values\n",
    "\n",
    "# Decision Tree Classifier\n",
    "scores = cross_val_score(dtc, X_wins, y_true, scoring = scorer)\n",
    "\n",
    "# Print results\n",
    "print(\"Using the previous results of the home and visitor teams\")\n",
    "print('F1: {0:.2f}%'.format(np.mean(scores) * 100))"
   ]
  },
  {
   "cell_type": "markdown",
   "id": "78949416-f9c2-492e-9c31-0ea680022a79",
   "metadata": {},
   "source": [
    "## Decision Tree Classification\n",
    "\n",
    "### Feature Engineering - WIN_STREAK\n",
    "\n",
    "Let's add features that determine whether home and visitor teams are on a winning streak."
   ]
  },
  {
   "cell_type": "code",
   "execution_count": 116,
   "id": "1c58bd4b-90a5-4e13-a328-8fc49ccfafa9",
   "metadata": {},
   "outputs": [],
   "source": [
    "# Create two columns for home and visitor win streaks\n",
    "df_results_2020['HOME_WIN_STREAK'] = 0\n",
    "df_results_2020['VISITOR_WIN_STREAK'] = 0\n",
    "\n",
    "from collections import defaultdict\n",
    "win_streak = defaultdict(int)\n",
    "\n",
    "for index, row in df_results_2020.iterrows():  \n",
    "    home_team = row['HOME']\n",
    "    visitor_team = row['VISITOR']\n",
    "    row['HOME_WIN_STREAK'] = win_streak[home_team]\n",
    "    row['VISITOR_WIN_STREAK'] = win_streak[visitor_team]\n",
    "    df_results_2020.loc[index] = row    \n",
    "    \n",
    "    # Set current win streak\n",
    "    if row['HOME_WIN']:\n",
    "        win_streak[home_team] += 1\n",
    "        win_streak[visitor_team] = 0\n",
    "    else:\n",
    "        win_streak[home_team] = 0\n",
    "        win_streak[visitor_team] += 1"
   ]
  },
  {
   "cell_type": "code",
   "execution_count": 117,
   "id": "494c3fd7-46e9-40ec-ad4a-1ef8efecde35",
   "metadata": {},
   "outputs": [
    {
     "data": {
      "text/html": [
       "<div>\n",
       "<style scoped>\n",
       "    .dataframe tbody tr th:only-of-type {\n",
       "        vertical-align: middle;\n",
       "    }\n",
       "\n",
       "    .dataframe tbody tr th {\n",
       "        vertical-align: top;\n",
       "    }\n",
       "\n",
       "    .dataframe thead th {\n",
       "        text-align: right;\n",
       "    }\n",
       "</style>\n",
       "<table border=\"1\" class=\"dataframe\">\n",
       "  <thead>\n",
       "    <tr style=\"text-align: right;\">\n",
       "      <th></th>\n",
       "      <th>DATE</th>\n",
       "      <th>VISITOR</th>\n",
       "      <th>AWAY_PTS</th>\n",
       "      <th>HOME</th>\n",
       "      <th>HOME_PTS</th>\n",
       "      <th>ATTENDANCE</th>\n",
       "      <th>ARENA</th>\n",
       "      <th>HOME_WIN</th>\n",
       "      <th>HOME_LAST_WIN</th>\n",
       "      <th>VISITOR_LAST_WIN</th>\n",
       "      <th>HOME_WIN_STREAK</th>\n",
       "      <th>VISITOR_WIN_STREAK</th>\n",
       "    </tr>\n",
       "  </thead>\n",
       "  <tbody>\n",
       "    <tr>\n",
       "      <th>0</th>\n",
       "      <td>2019-10-22</td>\n",
       "      <td>New Orleans Pelicans</td>\n",
       "      <td>122</td>\n",
       "      <td>Toronto Raptors</td>\n",
       "      <td>130</td>\n",
       "      <td>20787.0</td>\n",
       "      <td>Scotiabank Arena</td>\n",
       "      <td>True</td>\n",
       "      <td>False</td>\n",
       "      <td>False</td>\n",
       "      <td>0</td>\n",
       "      <td>0</td>\n",
       "    </tr>\n",
       "    <tr>\n",
       "      <th>1</th>\n",
       "      <td>2019-10-22</td>\n",
       "      <td>Los Angeles Lakers</td>\n",
       "      <td>102</td>\n",
       "      <td>Los Angeles Clippers</td>\n",
       "      <td>112</td>\n",
       "      <td>19068.0</td>\n",
       "      <td>STAPLES Center</td>\n",
       "      <td>True</td>\n",
       "      <td>False</td>\n",
       "      <td>False</td>\n",
       "      <td>0</td>\n",
       "      <td>0</td>\n",
       "    </tr>\n",
       "    <tr>\n",
       "      <th>2</th>\n",
       "      <td>2019-10-23</td>\n",
       "      <td>Chicago Bulls</td>\n",
       "      <td>125</td>\n",
       "      <td>Charlotte Hornets</td>\n",
       "      <td>126</td>\n",
       "      <td>15424.0</td>\n",
       "      <td>Spectrum Center</td>\n",
       "      <td>True</td>\n",
       "      <td>False</td>\n",
       "      <td>False</td>\n",
       "      <td>0</td>\n",
       "      <td>0</td>\n",
       "    </tr>\n",
       "    <tr>\n",
       "      <th>3</th>\n",
       "      <td>2019-10-23</td>\n",
       "      <td>Detroit Pistons</td>\n",
       "      <td>119</td>\n",
       "      <td>Indiana Pacers</td>\n",
       "      <td>110</td>\n",
       "      <td>17923.0</td>\n",
       "      <td>Bankers Life Fieldhouse</td>\n",
       "      <td>False</td>\n",
       "      <td>False</td>\n",
       "      <td>False</td>\n",
       "      <td>0</td>\n",
       "      <td>0</td>\n",
       "    </tr>\n",
       "    <tr>\n",
       "      <th>4</th>\n",
       "      <td>2019-10-23</td>\n",
       "      <td>Cleveland Cavaliers</td>\n",
       "      <td>85</td>\n",
       "      <td>Orlando Magic</td>\n",
       "      <td>94</td>\n",
       "      <td>18846.0</td>\n",
       "      <td>Amway Center</td>\n",
       "      <td>True</td>\n",
       "      <td>False</td>\n",
       "      <td>False</td>\n",
       "      <td>0</td>\n",
       "      <td>0</td>\n",
       "    </tr>\n",
       "  </tbody>\n",
       "</table>\n",
       "</div>"
      ],
      "text/plain": [
       "        DATE               VISITOR  AWAY_PTS                  HOME  HOME_PTS  \\\n",
       "0 2019-10-22  New Orleans Pelicans       122       Toronto Raptors       130   \n",
       "1 2019-10-22    Los Angeles Lakers       102  Los Angeles Clippers       112   \n",
       "2 2019-10-23         Chicago Bulls       125     Charlotte Hornets       126   \n",
       "3 2019-10-23       Detroit Pistons       119        Indiana Pacers       110   \n",
       "4 2019-10-23   Cleveland Cavaliers        85         Orlando Magic        94   \n",
       "\n",
       "   ATTENDANCE                    ARENA  HOME_WIN  HOME_LAST_WIN  \\\n",
       "0     20787.0         Scotiabank Arena      True          False   \n",
       "1     19068.0           STAPLES Center      True          False   \n",
       "2     15424.0          Spectrum Center      True          False   \n",
       "3     17923.0  Bankers Life Fieldhouse     False          False   \n",
       "4     18846.0             Amway Center      True          False   \n",
       "\n",
       "   VISITOR_LAST_WIN  HOME_WIN_STREAK  VISITOR_WIN_STREAK  \n",
       "0             False                0                   0  \n",
       "1             False                0                   0  \n",
       "2             False                0                   0  \n",
       "3             False                0                   0  \n",
       "4             False                0                   0  "
      ]
     },
     "execution_count": 117,
     "metadata": {},
     "output_type": "execute_result"
    }
   ],
   "source": [
    "df_results_2020.head()"
   ]
  },
  {
   "cell_type": "code",
   "execution_count": 118,
   "id": "875d4d1e-7951-4a3f-8499-f6f4e6fbced3",
   "metadata": {},
   "outputs": [
    {
     "name": "stdout",
     "output_type": "stream",
     "text": [
      "Using whether the home team is ranked higher\n",
      "F1: 49.28%\n"
     ]
    }
   ],
   "source": [
    "X_win_streak = df_results_2020[['HOME_LAST_WIN', 'VISITOR_LAST_WIN', 'HOME_WIN_STREAK', 'VISITOR_WIN_STREAK']].values\n",
    "\n",
    "# Decision Tree Classifier\n",
    "scores = cross_val_score(dtc, X_win_streak, y_true, scoring = scorer)\n",
    "\n",
    "# Print results\n",
    "print(\"Using whether the home team is ranked higher\")\n",
    "print(\"F1: {0:.2f}%\".format(np.mean(scores) * 100))"
   ]
  },
  {
   "cell_type": "markdown",
   "id": "7c3b8d16-4739-45e8-847c-97c663ffc80b",
   "metadata": {},
   "source": [
    "## Decision Tree Classification\n",
    "\n",
    "### Feature Engineering - Previous Season Standings\n",
    "\n",
    "Let's create a new feature where we determine if the home team ranks higher"
   ]
  },
  {
   "cell_type": "code",
   "execution_count": 119,
   "id": "8f232cdc-0660-408a-b7aa-3c934789b359",
   "metadata": {},
   "outputs": [],
   "source": [
    "df_standings_2019 = pd.read_excel(\"C:\\\\Users\\\\makar\\\\Final-LHL-Project\\\\data\\\\NBA_Standings_18_19.xlsx\", skiprows=[0], index_col = 'Team')"
   ]
  },
  {
   "cell_type": "code",
   "execution_count": 120,
   "id": "249ab372-db79-4894-b366-fbb942a74589",
   "metadata": {},
   "outputs": [],
   "source": [
    "df_standings_2019.columns = ['Rank', 'Overall', 'Home', 'Road', 'Eastern Conf', 'Western Conf', \n",
    "                'Atlantic Div', 'Central Div', 'Southeast Div', 'Northwest Div', 'Pacific Div', 'Southwest Div', \n",
    "                'Pre All-Star', 'Post All-Star', 'Margin ≤3', 'Margin ≥10', 'Oct', 'Nov', 'Dec', 'Jan', 'Feb', \n",
    "                'Mar', 'Apr']"
   ]
  },
  {
   "cell_type": "code",
   "execution_count": 121,
   "id": "c2def968-5987-465e-b383-3cb70885c650",
   "metadata": {},
   "outputs": [
    {
     "data": {
      "text/html": [
       "<div>\n",
       "<style scoped>\n",
       "    .dataframe tbody tr th:only-of-type {\n",
       "        vertical-align: middle;\n",
       "    }\n",
       "\n",
       "    .dataframe tbody tr th {\n",
       "        vertical-align: top;\n",
       "    }\n",
       "\n",
       "    .dataframe thead th {\n",
       "        text-align: right;\n",
       "    }\n",
       "</style>\n",
       "<table border=\"1\" class=\"dataframe\">\n",
       "  <thead>\n",
       "    <tr style=\"text-align: right;\">\n",
       "      <th></th>\n",
       "      <th>Rank</th>\n",
       "      <th>Overall</th>\n",
       "      <th>Home</th>\n",
       "      <th>Road</th>\n",
       "      <th>Eastern Conf</th>\n",
       "      <th>Western Conf</th>\n",
       "      <th>Atlantic Div</th>\n",
       "      <th>Central Div</th>\n",
       "      <th>Southeast Div</th>\n",
       "      <th>Northwest Div</th>\n",
       "      <th>...</th>\n",
       "      <th>Post All-Star</th>\n",
       "      <th>Margin ≤3</th>\n",
       "      <th>Margin ≥10</th>\n",
       "      <th>Oct</th>\n",
       "      <th>Nov</th>\n",
       "      <th>Dec</th>\n",
       "      <th>Jan</th>\n",
       "      <th>Feb</th>\n",
       "      <th>Mar</th>\n",
       "      <th>Apr</th>\n",
       "    </tr>\n",
       "    <tr>\n",
       "      <th>Team</th>\n",
       "      <th></th>\n",
       "      <th></th>\n",
       "      <th></th>\n",
       "      <th></th>\n",
       "      <th></th>\n",
       "      <th></th>\n",
       "      <th></th>\n",
       "      <th></th>\n",
       "      <th></th>\n",
       "      <th></th>\n",
       "      <th></th>\n",
       "      <th></th>\n",
       "      <th></th>\n",
       "      <th></th>\n",
       "      <th></th>\n",
       "      <th></th>\n",
       "      <th></th>\n",
       "      <th></th>\n",
       "      <th></th>\n",
       "      <th></th>\n",
       "      <th></th>\n",
       "    </tr>\n",
       "  </thead>\n",
       "  <tbody>\n",
       "    <tr>\n",
       "      <th>Milwaukee Bucks</th>\n",
       "      <td>1</td>\n",
       "      <td>60-22</td>\n",
       "      <td>33-8</td>\n",
       "      <td>27-14</td>\n",
       "      <td>40-12</td>\n",
       "      <td>20-10</td>\n",
       "      <td>13-5</td>\n",
       "      <td>14-2</td>\n",
       "      <td>13-5</td>\n",
       "      <td>6-4</td>\n",
       "      <td>...</td>\n",
       "      <td>17-8</td>\n",
       "      <td>5-6</td>\n",
       "      <td>45-5</td>\n",
       "      <td>7-0</td>\n",
       "      <td>8-6</td>\n",
       "      <td>10-4</td>\n",
       "      <td>12-3</td>\n",
       "      <td>10-1</td>\n",
       "      <td>10-6</td>\n",
       "      <td>3-2</td>\n",
       "    </tr>\n",
       "    <tr>\n",
       "      <th>Toronto Raptors</th>\n",
       "      <td>2</td>\n",
       "      <td>58-24</td>\n",
       "      <td>32-9</td>\n",
       "      <td>26-15</td>\n",
       "      <td>36-16</td>\n",
       "      <td>22-8</td>\n",
       "      <td>12-4</td>\n",
       "      <td>10-8</td>\n",
       "      <td>14-4</td>\n",
       "      <td>6-4</td>\n",
       "      <td>...</td>\n",
       "      <td>15-8</td>\n",
       "      <td>11-7</td>\n",
       "      <td>33-9</td>\n",
       "      <td>7-1</td>\n",
       "      <td>12-3</td>\n",
       "      <td>8-7</td>\n",
       "      <td>10-5</td>\n",
       "      <td>8-1</td>\n",
       "      <td>9-6</td>\n",
       "      <td>4-1</td>\n",
       "    </tr>\n",
       "    <tr>\n",
       "      <th>Golden State Warriors</th>\n",
       "      <td>3</td>\n",
       "      <td>57-25</td>\n",
       "      <td>30-11</td>\n",
       "      <td>27-14</td>\n",
       "      <td>22-8</td>\n",
       "      <td>35-17</td>\n",
       "      <td>6-4</td>\n",
       "      <td>8-2</td>\n",
       "      <td>8-2</td>\n",
       "      <td>12-6</td>\n",
       "      <td>...</td>\n",
       "      <td>16-9</td>\n",
       "      <td>7-7</td>\n",
       "      <td>34-10</td>\n",
       "      <td>8-1</td>\n",
       "      <td>7-7</td>\n",
       "      <td>10-5</td>\n",
       "      <td>11-2</td>\n",
       "      <td>7-4</td>\n",
       "      <td>9-5</td>\n",
       "      <td>5-1</td>\n",
       "    </tr>\n",
       "    <tr>\n",
       "      <th>Denver Nuggets</th>\n",
       "      <td>4</td>\n",
       "      <td>54-28</td>\n",
       "      <td>34-7</td>\n",
       "      <td>20-21</td>\n",
       "      <td>20-10</td>\n",
       "      <td>34-18</td>\n",
       "      <td>7-3</td>\n",
       "      <td>6-4</td>\n",
       "      <td>7-3</td>\n",
       "      <td>12-4</td>\n",
       "      <td>...</td>\n",
       "      <td>15-10</td>\n",
       "      <td>13-3</td>\n",
       "      <td>23-11</td>\n",
       "      <td>6-1</td>\n",
       "      <td>9-6</td>\n",
       "      <td>8-4</td>\n",
       "      <td>12-4</td>\n",
       "      <td>7-4</td>\n",
       "      <td>9-6</td>\n",
       "      <td>3-3</td>\n",
       "    </tr>\n",
       "    <tr>\n",
       "      <th>Houston Rockets</th>\n",
       "      <td>5</td>\n",
       "      <td>53-29</td>\n",
       "      <td>31-10</td>\n",
       "      <td>22-19</td>\n",
       "      <td>21-9</td>\n",
       "      <td>32-20</td>\n",
       "      <td>8-2</td>\n",
       "      <td>6-4</td>\n",
       "      <td>7-3</td>\n",
       "      <td>8-10</td>\n",
       "      <td>...</td>\n",
       "      <td>20-5</td>\n",
       "      <td>5-7</td>\n",
       "      <td>29-12</td>\n",
       "      <td>1-5</td>\n",
       "      <td>9-6</td>\n",
       "      <td>11-4</td>\n",
       "      <td>8-6</td>\n",
       "      <td>8-4</td>\n",
       "      <td>12-3</td>\n",
       "      <td>4-1</td>\n",
       "    </tr>\n",
       "  </tbody>\n",
       "</table>\n",
       "<p>5 rows × 23 columns</p>\n",
       "</div>"
      ],
      "text/plain": [
       "                       Rank Overall   Home   Road Eastern Conf Western Conf  \\\n",
       "Team                                                                          \n",
       "Milwaukee Bucks           1   60-22   33-8  27-14        40-12        20-10   \n",
       "Toronto Raptors           2   58-24   32-9  26-15        36-16         22-8   \n",
       "Golden State Warriors     3   57-25  30-11  27-14         22-8        35-17   \n",
       "Denver Nuggets            4   54-28   34-7  20-21        20-10        34-18   \n",
       "Houston Rockets           5   53-29  31-10  22-19         21-9        32-20   \n",
       "\n",
       "                      Atlantic Div Central Div Southeast Div Northwest Div  \\\n",
       "Team                                                                         \n",
       "Milwaukee Bucks               13-5        14-2          13-5           6-4   \n",
       "Toronto Raptors               12-4        10-8          14-4           6-4   \n",
       "Golden State Warriors          6-4         8-2           8-2          12-6   \n",
       "Denver Nuggets                 7-3         6-4           7-3          12-4   \n",
       "Houston Rockets                8-2         6-4           7-3          8-10   \n",
       "\n",
       "                       ... Post All-Star Margin ≤3 Margin ≥10  Oct   Nov  \\\n",
       "Team                   ...                                                 \n",
       "Milwaukee Bucks        ...          17-8       5-6       45-5  7-0   8-6   \n",
       "Toronto Raptors        ...          15-8      11-7       33-9  7-1  12-3   \n",
       "Golden State Warriors  ...          16-9       7-7      34-10  8-1   7-7   \n",
       "Denver Nuggets         ...         15-10      13-3      23-11  6-1   9-6   \n",
       "Houston Rockets        ...          20-5       5-7      29-12  1-5   9-6   \n",
       "\n",
       "                        Dec   Jan   Feb   Mar  Apr  \n",
       "Team                                                \n",
       "Milwaukee Bucks        10-4  12-3  10-1  10-6  3-2  \n",
       "Toronto Raptors         8-7  10-5   8-1   9-6  4-1  \n",
       "Golden State Warriors  10-5  11-2   7-4   9-5  5-1  \n",
       "Denver Nuggets          8-4  12-4   7-4   9-6  3-3  \n",
       "Houston Rockets        11-4   8-6   8-4  12-3  4-1  \n",
       "\n",
       "[5 rows x 23 columns]"
      ]
     },
     "execution_count": 121,
     "metadata": {},
     "output_type": "execute_result"
    }
   ],
   "source": [
    "df_standings_2019.head()"
   ]
  },
  {
   "cell_type": "code",
   "execution_count": 122,
   "id": "968dacc3-6c10-4dfb-91d4-1dde1c58306a",
   "metadata": {},
   "outputs": [],
   "source": [
    "# Create a feature that will determine if the home team ranks higher\n",
    "\n",
    "def home_team_ranks_higher(row):\n",
    "    home_team = row['HOME']\n",
    "    visitor_team = row['VISITOR']\n",
    "    \n",
    "    home_rank = df_standings_2019.loc[home_team]['Rank']\n",
    "    visitor_rank = df_standings_2019.loc[visitor_team]['Rank']\n",
    "    \n",
    "    return home_rank < visitor_rank"
   ]
  },
  {
   "cell_type": "code",
   "execution_count": 123,
   "id": "7d0f9444-90e0-4e87-822c-4ff0eb9cbaf8",
   "metadata": {},
   "outputs": [
    {
     "data": {
      "text/html": [
       "<div>\n",
       "<style scoped>\n",
       "    .dataframe tbody tr th:only-of-type {\n",
       "        vertical-align: middle;\n",
       "    }\n",
       "\n",
       "    .dataframe tbody tr th {\n",
       "        vertical-align: top;\n",
       "    }\n",
       "\n",
       "    .dataframe thead th {\n",
       "        text-align: right;\n",
       "    }\n",
       "</style>\n",
       "<table border=\"1\" class=\"dataframe\">\n",
       "  <thead>\n",
       "    <tr style=\"text-align: right;\">\n",
       "      <th></th>\n",
       "      <th>DATE</th>\n",
       "      <th>VISITOR</th>\n",
       "      <th>AWAY_PTS</th>\n",
       "      <th>HOME</th>\n",
       "      <th>HOME_PTS</th>\n",
       "      <th>ATTENDANCE</th>\n",
       "      <th>ARENA</th>\n",
       "      <th>HOME_WIN</th>\n",
       "      <th>HOME_LAST_WIN</th>\n",
       "      <th>VISITOR_LAST_WIN</th>\n",
       "      <th>HOME_WIN_STREAK</th>\n",
       "      <th>VISITOR_WIN_STREAK</th>\n",
       "      <th>HOME_RANK_HIGHER</th>\n",
       "    </tr>\n",
       "  </thead>\n",
       "  <tbody>\n",
       "    <tr>\n",
       "      <th>0</th>\n",
       "      <td>2019-10-22</td>\n",
       "      <td>New Orleans Pelicans</td>\n",
       "      <td>122</td>\n",
       "      <td>Toronto Raptors</td>\n",
       "      <td>130</td>\n",
       "      <td>20787.0</td>\n",
       "      <td>Scotiabank Arena</td>\n",
       "      <td>True</td>\n",
       "      <td>False</td>\n",
       "      <td>False</td>\n",
       "      <td>0</td>\n",
       "      <td>0</td>\n",
       "      <td>True</td>\n",
       "    </tr>\n",
       "    <tr>\n",
       "      <th>1</th>\n",
       "      <td>2019-10-22</td>\n",
       "      <td>Los Angeles Lakers</td>\n",
       "      <td>102</td>\n",
       "      <td>Los Angeles Clippers</td>\n",
       "      <td>112</td>\n",
       "      <td>19068.0</td>\n",
       "      <td>STAPLES Center</td>\n",
       "      <td>True</td>\n",
       "      <td>False</td>\n",
       "      <td>False</td>\n",
       "      <td>0</td>\n",
       "      <td>0</td>\n",
       "      <td>True</td>\n",
       "    </tr>\n",
       "    <tr>\n",
       "      <th>2</th>\n",
       "      <td>2019-10-23</td>\n",
       "      <td>Chicago Bulls</td>\n",
       "      <td>125</td>\n",
       "      <td>Charlotte Hornets</td>\n",
       "      <td>126</td>\n",
       "      <td>15424.0</td>\n",
       "      <td>Spectrum Center</td>\n",
       "      <td>True</td>\n",
       "      <td>False</td>\n",
       "      <td>False</td>\n",
       "      <td>0</td>\n",
       "      <td>0</td>\n",
       "      <td>True</td>\n",
       "    </tr>\n",
       "    <tr>\n",
       "      <th>3</th>\n",
       "      <td>2019-10-23</td>\n",
       "      <td>Detroit Pistons</td>\n",
       "      <td>119</td>\n",
       "      <td>Indiana Pacers</td>\n",
       "      <td>110</td>\n",
       "      <td>17923.0</td>\n",
       "      <td>Bankers Life Fieldhouse</td>\n",
       "      <td>False</td>\n",
       "      <td>False</td>\n",
       "      <td>False</td>\n",
       "      <td>0</td>\n",
       "      <td>0</td>\n",
       "      <td>True</td>\n",
       "    </tr>\n",
       "    <tr>\n",
       "      <th>4</th>\n",
       "      <td>2019-10-23</td>\n",
       "      <td>Cleveland Cavaliers</td>\n",
       "      <td>85</td>\n",
       "      <td>Orlando Magic</td>\n",
       "      <td>94</td>\n",
       "      <td>18846.0</td>\n",
       "      <td>Amway Center</td>\n",
       "      <td>True</td>\n",
       "      <td>False</td>\n",
       "      <td>False</td>\n",
       "      <td>0</td>\n",
       "      <td>0</td>\n",
       "      <td>True</td>\n",
       "    </tr>\n",
       "  </tbody>\n",
       "</table>\n",
       "</div>"
      ],
      "text/plain": [
       "        DATE               VISITOR  AWAY_PTS                  HOME  HOME_PTS  \\\n",
       "0 2019-10-22  New Orleans Pelicans       122       Toronto Raptors       130   \n",
       "1 2019-10-22    Los Angeles Lakers       102  Los Angeles Clippers       112   \n",
       "2 2019-10-23         Chicago Bulls       125     Charlotte Hornets       126   \n",
       "3 2019-10-23       Detroit Pistons       119        Indiana Pacers       110   \n",
       "4 2019-10-23   Cleveland Cavaliers        85         Orlando Magic        94   \n",
       "\n",
       "   ATTENDANCE                    ARENA  HOME_WIN  HOME_LAST_WIN  \\\n",
       "0     20787.0         Scotiabank Arena      True          False   \n",
       "1     19068.0           STAPLES Center      True          False   \n",
       "2     15424.0          Spectrum Center      True          False   \n",
       "3     17923.0  Bankers Life Fieldhouse     False          False   \n",
       "4     18846.0             Amway Center      True          False   \n",
       "\n",
       "   VISITOR_LAST_WIN  HOME_WIN_STREAK  VISITOR_WIN_STREAK  HOME_RANK_HIGHER  \n",
       "0             False                0                   0              True  \n",
       "1             False                0                   0              True  \n",
       "2             False                0                   0              True  \n",
       "3             False                0                   0              True  \n",
       "4             False                0                   0              True  "
      ]
     },
     "execution_count": 123,
     "metadata": {},
     "output_type": "execute_result"
    }
   ],
   "source": [
    "# Create new column by using .apply(home_team_ranks_higher) across the DataFrame\n",
    "df_results_2020[\"HOME_RANK_HIGHER\"] = df_results_2020.apply(home_team_ranks_higher, axis = 1)\n",
    "df_results_2020.head()"
   ]
  },
  {
   "cell_type": "code",
   "execution_count": 124,
   "id": "f8f079b3-958a-42d7-a37e-b217ff5cfd42",
   "metadata": {},
   "outputs": [
    {
     "name": "stdout",
     "output_type": "stream",
     "text": [
      "Using whether the home team is ranked higher\n",
      "F1: 59.69%\n"
     ]
    }
   ],
   "source": [
    "X_home_higher = df_results_2020[['HOME_LAST_WIN', 'VISITOR_LAST_WIN', 'HOME_RANK_HIGHER']].values\n",
    "\n",
    "# Decision Tree Classifier\n",
    "scores = cross_val_score(dtc, X_home_higher, y_true, scoring = scorer)\n",
    "\n",
    "# Print results\n",
    "print(\"Using whether the home team is ranked higher\")\n",
    "print(\"F1: {0:.2f}%\".format(np.mean(scores) * 100))"
   ]
  },
  {
   "cell_type": "markdown",
   "id": "376b945e-a730-415b-a563-767a93e5b9d4",
   "metadata": {
    "tags": []
   },
   "source": [
    "## Decision Tree Classification\n",
    "\n",
    "### Feature Engineering - Last Match Winner\n",
    "\n",
    "Let's create a new feature where we determine whether the home team won the last encounter."
   ]
  },
  {
   "cell_type": "code",
   "execution_count": 125,
   "id": "b557bcc8-5d96-4c4f-b3cf-659898a97acd",
   "metadata": {},
   "outputs": [],
   "source": [
    "last_game_winner = defaultdict(int)\n",
    "\n",
    "def home_team_won_last(row):\n",
    "    home_team = row['HOME']\n",
    "    visitor_team = row['VISITOR']\n",
    "    \n",
    "    # Sort for a consistent ordering\n",
    "    teams = tuple(sorted([home_team, visitor_team]))\n",
    "    # Parse the row for which team won the last matchup, then add a 1 if the Home Team won\n",
    "    if last_game_winner[teams] == row['HOME']:\n",
    "        result = 1 \n",
    "    else:\n",
    "        result = 0\n",
    "    \n",
    "    # Update record for next matchup\n",
    "    winner = row['HOME'] if row['HOME_WIN'] else row['VISITOR']\n",
    "    last_game_winner[teams] = winner\n",
    "    \n",
    "    return result\n",
    "\n",
    "df_results_2020['HOME_TEAM_WON_LAST'] = df_results_2020.apply(home_team_won_last, axis=1)"
   ]
  },
  {
   "cell_type": "code",
   "execution_count": 126,
   "id": "3c470782-bc43-48a8-9e57-f4e1887811ee",
   "metadata": {},
   "outputs": [],
   "source": [
    "df_results_2020.drop(['ATTENDANCE', 'ARENA'], axis=1, inplace=True)"
   ]
  },
  {
   "cell_type": "code",
   "execution_count": 127,
   "id": "98b90788-519a-47c2-9717-c4189d595fb1",
   "metadata": {},
   "outputs": [],
   "source": [
    "df_results_2020.replace({False: 0, True: 1}, inplace=True)"
   ]
  },
  {
   "cell_type": "code",
   "execution_count": 128,
   "id": "95acab51-eaca-4f97-91b8-30ee1da47eb8",
   "metadata": {},
   "outputs": [],
   "source": [
    "df_results_2020.drop(['DATE'], axis=1, inplace=True)"
   ]
  },
  {
   "cell_type": "markdown",
   "id": "638b8c15-009e-45ef-b7e8-22b524d92ebc",
   "metadata": {
    "tags": []
   },
   "source": [
    "### Feature Engineering - +/- ROLLING AVERAGE"
   ]
  },
  {
   "cell_type": "code",
   "execution_count": 129,
   "id": "47b85376-0aba-4d93-886c-61296026b2dd",
   "metadata": {},
   "outputs": [],
   "source": [
    "df_results_2020['PLUS_MINUS'] = df_results_2020['HOME_PTS'] - df_results_2020['AWAY_PTS']"
   ]
  },
  {
   "cell_type": "code",
   "execution_count": 130,
   "id": "3fd1a17b-40ba-429f-a5be-7fd71b50f4ef",
   "metadata": {},
   "outputs": [],
   "source": [
    "df_results_2020.drop(['AWAY_PTS', 'HOME_PTS'], axis=1, inplace=True)"
   ]
  },
  {
   "cell_type": "code",
   "execution_count": 131,
   "id": "4effdfd5-5a9d-4417-afce-b60b35000745",
   "metadata": {},
   "outputs": [],
   "source": [
    "df_results_2020 = df_results_2020[['VISITOR', 'HOME', 'HOME_WIN', 'PLUS_MINUS', 'HOME_LAST_WIN', 'VISITOR_LAST_WIN', 'HOME_WIN_STREAK', 'VISITOR_WIN_STREAK', 'HOME_RANK_HIGHER', 'HOME_TEAM_WON_LAST']]"
   ]
  },
  {
   "cell_type": "code",
   "execution_count": 132,
   "id": "e1adfa66-16ca-4542-aec3-9b46fd9be3b3",
   "metadata": {},
   "outputs": [
    {
     "data": {
      "text/html": [
       "<div>\n",
       "<style scoped>\n",
       "    .dataframe tbody tr th:only-of-type {\n",
       "        vertical-align: middle;\n",
       "    }\n",
       "\n",
       "    .dataframe tbody tr th {\n",
       "        vertical-align: top;\n",
       "    }\n",
       "\n",
       "    .dataframe thead th {\n",
       "        text-align: right;\n",
       "    }\n",
       "</style>\n",
       "<table border=\"1\" class=\"dataframe\">\n",
       "  <thead>\n",
       "    <tr style=\"text-align: right;\">\n",
       "      <th></th>\n",
       "      <th>VISITOR</th>\n",
       "      <th>HOME</th>\n",
       "      <th>HOME_WIN</th>\n",
       "      <th>PLUS_MINUS</th>\n",
       "      <th>HOME_LAST_WIN</th>\n",
       "      <th>VISITOR_LAST_WIN</th>\n",
       "      <th>HOME_WIN_STREAK</th>\n",
       "      <th>VISITOR_WIN_STREAK</th>\n",
       "      <th>HOME_RANK_HIGHER</th>\n",
       "      <th>HOME_TEAM_WON_LAST</th>\n",
       "    </tr>\n",
       "  </thead>\n",
       "  <tbody>\n",
       "    <tr>\n",
       "      <th>0</th>\n",
       "      <td>New Orleans Pelicans</td>\n",
       "      <td>Toronto Raptors</td>\n",
       "      <td>1</td>\n",
       "      <td>8</td>\n",
       "      <td>0</td>\n",
       "      <td>0</td>\n",
       "      <td>0</td>\n",
       "      <td>0</td>\n",
       "      <td>1</td>\n",
       "      <td>0</td>\n",
       "    </tr>\n",
       "    <tr>\n",
       "      <th>1</th>\n",
       "      <td>Los Angeles Lakers</td>\n",
       "      <td>Los Angeles Clippers</td>\n",
       "      <td>1</td>\n",
       "      <td>10</td>\n",
       "      <td>0</td>\n",
       "      <td>0</td>\n",
       "      <td>0</td>\n",
       "      <td>0</td>\n",
       "      <td>1</td>\n",
       "      <td>0</td>\n",
       "    </tr>\n",
       "    <tr>\n",
       "      <th>2</th>\n",
       "      <td>Chicago Bulls</td>\n",
       "      <td>Charlotte Hornets</td>\n",
       "      <td>1</td>\n",
       "      <td>1</td>\n",
       "      <td>0</td>\n",
       "      <td>0</td>\n",
       "      <td>0</td>\n",
       "      <td>0</td>\n",
       "      <td>1</td>\n",
       "      <td>0</td>\n",
       "    </tr>\n",
       "    <tr>\n",
       "      <th>3</th>\n",
       "      <td>Detroit Pistons</td>\n",
       "      <td>Indiana Pacers</td>\n",
       "      <td>0</td>\n",
       "      <td>-9</td>\n",
       "      <td>0</td>\n",
       "      <td>0</td>\n",
       "      <td>0</td>\n",
       "      <td>0</td>\n",
       "      <td>1</td>\n",
       "      <td>0</td>\n",
       "    </tr>\n",
       "    <tr>\n",
       "      <th>4</th>\n",
       "      <td>Cleveland Cavaliers</td>\n",
       "      <td>Orlando Magic</td>\n",
       "      <td>1</td>\n",
       "      <td>9</td>\n",
       "      <td>0</td>\n",
       "      <td>0</td>\n",
       "      <td>0</td>\n",
       "      <td>0</td>\n",
       "      <td>1</td>\n",
       "      <td>0</td>\n",
       "    </tr>\n",
       "  </tbody>\n",
       "</table>\n",
       "</div>"
      ],
      "text/plain": [
       "                VISITOR                  HOME  HOME_WIN  PLUS_MINUS  \\\n",
       "0  New Orleans Pelicans       Toronto Raptors         1           8   \n",
       "1    Los Angeles Lakers  Los Angeles Clippers         1          10   \n",
       "2         Chicago Bulls     Charlotte Hornets         1           1   \n",
       "3       Detroit Pistons        Indiana Pacers         0          -9   \n",
       "4   Cleveland Cavaliers         Orlando Magic         1           9   \n",
       "\n",
       "   HOME_LAST_WIN  VISITOR_LAST_WIN  HOME_WIN_STREAK  VISITOR_WIN_STREAK  \\\n",
       "0              0                 0                0                   0   \n",
       "1              0                 0                0                   0   \n",
       "2              0                 0                0                   0   \n",
       "3              0                 0                0                   0   \n",
       "4              0                 0                0                   0   \n",
       "\n",
       "   HOME_RANK_HIGHER  HOME_TEAM_WON_LAST  \n",
       "0                 1                   0  \n",
       "1                 1                   0  \n",
       "2                 1                   0  \n",
       "3                 1                   0  \n",
       "4                 1                   0  "
      ]
     },
     "execution_count": 132,
     "metadata": {},
     "output_type": "execute_result"
    }
   ],
   "source": [
    "df_results_2020.head()"
   ]
  },
  {
   "cell_type": "code",
   "execution_count": 133,
   "id": "1fc767ac-421c-4471-9475-26f74f49d18c",
   "metadata": {},
   "outputs": [
    {
     "name": "stdout",
     "output_type": "stream",
     "text": [
      "Using whether the home team is ranked higher\n",
      "F1: 59.59%\n"
     ]
    }
   ],
   "source": [
    "X_plus_minus = df_results_2020[['HOME_LAST_WIN', 'VISITOR_LAST_WIN', 'HOME_RANK_HIGHER', 'HOME_TEAM_WON_LAST']].values\n",
    "\n",
    "# Decision Tree Classifier\n",
    "scores = cross_val_score(dtc, X_plus_minus, y_true, scoring = scorer)\n",
    "\n",
    "# Print results\n",
    "print(\"Using whether the home team is ranked higher\")\n",
    "print(\"F1: {0:.2f}%\".format(np.mean(scores) * 100))"
   ]
  },
  {
   "cell_type": "markdown",
   "id": "f0a9ff63-1f68-4fdf-b726-9844184b5813",
   "metadata": {},
   "source": [
    "### Feature Engineering - OHE TEAM NAMES"
   ]
  },
  {
   "cell_type": "code",
   "execution_count": 134,
   "id": "45a613be-4f3f-45a1-a71b-242c6445efb1",
   "metadata": {},
   "outputs": [
    {
     "data": {
      "text/html": [
       "<style>#sk-container-id-4 {color: black;background-color: white;}#sk-container-id-4 pre{padding: 0;}#sk-container-id-4 div.sk-toggleable {background-color: white;}#sk-container-id-4 label.sk-toggleable__label {cursor: pointer;display: block;width: 100%;margin-bottom: 0;padding: 0.3em;box-sizing: border-box;text-align: center;}#sk-container-id-4 label.sk-toggleable__label-arrow:before {content: \"▸\";float: left;margin-right: 0.25em;color: #696969;}#sk-container-id-4 label.sk-toggleable__label-arrow:hover:before {color: black;}#sk-container-id-4 div.sk-estimator:hover label.sk-toggleable__label-arrow:before {color: black;}#sk-container-id-4 div.sk-toggleable__content {max-height: 0;max-width: 0;overflow: hidden;text-align: left;background-color: #f0f8ff;}#sk-container-id-4 div.sk-toggleable__content pre {margin: 0.2em;color: black;border-radius: 0.25em;background-color: #f0f8ff;}#sk-container-id-4 input.sk-toggleable__control:checked~div.sk-toggleable__content {max-height: 200px;max-width: 100%;overflow: auto;}#sk-container-id-4 input.sk-toggleable__control:checked~label.sk-toggleable__label-arrow:before {content: \"▾\";}#sk-container-id-4 div.sk-estimator input.sk-toggleable__control:checked~label.sk-toggleable__label {background-color: #d4ebff;}#sk-container-id-4 div.sk-label input.sk-toggleable__control:checked~label.sk-toggleable__label {background-color: #d4ebff;}#sk-container-id-4 input.sk-hidden--visually {border: 0;clip: rect(1px 1px 1px 1px);clip: rect(1px, 1px, 1px, 1px);height: 1px;margin: -1px;overflow: hidden;padding: 0;position: absolute;width: 1px;}#sk-container-id-4 div.sk-estimator {font-family: monospace;background-color: #f0f8ff;border: 1px dotted black;border-radius: 0.25em;box-sizing: border-box;margin-bottom: 0.5em;}#sk-container-id-4 div.sk-estimator:hover {background-color: #d4ebff;}#sk-container-id-4 div.sk-parallel-item::after {content: \"\";width: 100%;border-bottom: 1px solid gray;flex-grow: 1;}#sk-container-id-4 div.sk-label:hover label.sk-toggleable__label {background-color: #d4ebff;}#sk-container-id-4 div.sk-serial::before {content: \"\";position: absolute;border-left: 1px solid gray;box-sizing: border-box;top: 0;bottom: 0;left: 50%;z-index: 0;}#sk-container-id-4 div.sk-serial {display: flex;flex-direction: column;align-items: center;background-color: white;padding-right: 0.2em;padding-left: 0.2em;position: relative;}#sk-container-id-4 div.sk-item {position: relative;z-index: 1;}#sk-container-id-4 div.sk-parallel {display: flex;align-items: stretch;justify-content: center;background-color: white;position: relative;}#sk-container-id-4 div.sk-item::before, #sk-container-id-4 div.sk-parallel-item::before {content: \"\";position: absolute;border-left: 1px solid gray;box-sizing: border-box;top: 0;bottom: 0;left: 50%;z-index: -1;}#sk-container-id-4 div.sk-parallel-item {display: flex;flex-direction: column;z-index: 1;position: relative;background-color: white;}#sk-container-id-4 div.sk-parallel-item:first-child::after {align-self: flex-end;width: 50%;}#sk-container-id-4 div.sk-parallel-item:last-child::after {align-self: flex-start;width: 50%;}#sk-container-id-4 div.sk-parallel-item:only-child::after {width: 0;}#sk-container-id-4 div.sk-dashed-wrapped {border: 1px dashed gray;margin: 0 0.4em 0.5em 0.4em;box-sizing: border-box;padding-bottom: 0.4em;background-color: white;}#sk-container-id-4 div.sk-label label {font-family: monospace;font-weight: bold;display: inline-block;line-height: 1.2em;}#sk-container-id-4 div.sk-label-container {text-align: center;}#sk-container-id-4 div.sk-container {/* jupyter's `normalize.less` sets `[hidden] { display: none; }` but bootstrap.min.css set `[hidden] { display: none !important; }` so we also need the `!important` here to be able to override the default hidden behavior on the sphinx rendered scikit-learn.org. See: https://github.com/scikit-learn/scikit-learn/issues/21755 */display: inline-block !important;position: relative;}#sk-container-id-4 div.sk-text-repr-fallback {display: none;}</style><div id=\"sk-container-id-4\" class=\"sk-top-container\"><div class=\"sk-text-repr-fallback\"><pre>LabelEncoder()</pre><b>In a Jupyter environment, please rerun this cell to show the HTML representation or trust the notebook. <br />On GitHub, the HTML representation is unable to render, please try loading this page with nbviewer.org.</b></div><div class=\"sk-container\" hidden><div class=\"sk-item\"><div class=\"sk-estimator sk-toggleable\"><input class=\"sk-toggleable__control sk-hidden--visually\" id=\"sk-estimator-id-6\" type=\"checkbox\" checked><label for=\"sk-estimator-id-6\" class=\"sk-toggleable__label sk-toggleable__label-arrow\">LabelEncoder</label><div class=\"sk-toggleable__content\"><pre>LabelEncoder()</pre></div></div></div></div></div>"
      ],
      "text/plain": [
       "LabelEncoder()"
      ]
     },
     "execution_count": 134,
     "metadata": {},
     "output_type": "execute_result"
    }
   ],
   "source": [
    "# Use LabelEncoder to transform the teams by assigning numbers to them\n",
    "from sklearn.preprocessing import LabelEncoder, OneHotEncoder\n",
    "\n",
    "encoding = LabelEncoder()\n",
    "encoding.fit(df_results_2020['HOME'].values)"
   ]
  },
  {
   "cell_type": "code",
   "execution_count": 135,
   "id": "a18c4f81-f696-4cfb-ac4d-fdc5e914f3ce",
   "metadata": {},
   "outputs": [],
   "source": [
    "# Numerical values assigned to the home and visitor teams\n",
    "home_teams = encoding.transform(df_results_2020['HOME'].values)\n",
    "visitor_teams = encoding.transform(df_results_2020['VISITOR'].values)\n",
    "\n",
    "# Stacks arrays in a sequence vertically & transposes the data\n",
    "X_teams = np.vstack([home_teams, visitor_teams]).T"
   ]
  },
  {
   "cell_type": "code",
   "execution_count": 136,
   "id": "3b22d245-844d-4f26-817b-6c803646c722",
   "metadata": {},
   "outputs": [],
   "source": [
    "# OneHotEncoder\n",
    "onehot = OneHotEncoder()\n",
    "X_teams = onehot.fit_transform(X_teams).todense()"
   ]
  },
  {
   "cell_type": "code",
   "execution_count": 137,
   "id": "fa1f074d-5d94-4764-951f-e36a6e7c84aa",
   "metadata": {},
   "outputs": [
    {
     "name": "stdout",
     "output_type": "stream",
     "text": [
      "F1: 57.8201%\n"
     ]
    }
   ],
   "source": [
    "dtc = DecisionTreeClassifier(random_state = 14)\n",
    "scores = cross_val_score(dtc, X_teams, y_true, scoring = scorer)\n",
    "\n",
    "# Print results\n",
    "print(\"F1: {0:.4f}%\".format(np.mean(scores) * 100))"
   ]
  },
  {
   "cell_type": "markdown",
   "id": "2b5d9837-1cf9-4f3e-8eff-8f9bf9fe621c",
   "metadata": {
    "tags": []
   },
   "source": [
    "## Random Forest Classifier: Hyperparameters Tuning"
   ]
  },
  {
   "cell_type": "code",
   "execution_count": 138,
   "id": "73577d35-61e3-4446-9b31-0847bde8a519",
   "metadata": {},
   "outputs": [
    {
     "name": "stdout",
     "output_type": "stream",
     "text": [
      "F1: 64.7298%\n",
      "RandomForestClassifier(max_features=2, min_samples_leaf=2, n_estimators=50,\n",
      "                       random_state=14)\n"
     ]
    }
   ],
   "source": [
    "from sklearn.ensemble import RandomForestClassifier\n",
    "from sklearn.model_selection import GridSearchCV\n",
    "parameter_space = {\n",
    "                   \"max_features\": [2, 10, 50, 'auto'],\n",
    "                   \"n_estimators\": [50, 100, 200],\n",
    "                   \"criterion\": [\"gini\", \"entropy\"],\n",
    "                   \"min_samples_leaf\": [1, 2, 4, 6],\n",
    "                   }\n",
    "\n",
    "# Random Forest Classifier\n",
    "rfc = RandomForestClassifier(random_state = 14)\n",
    "grid = GridSearchCV(rfc, parameter_space, scoring = scorer)\n",
    "grid.fit(X_teams, y_true)\n",
    "\n",
    "# Print results\n",
    "print(\"F1: {0:.4f}%\".format(grid.best_score_ * 100))\n",
    "print(grid.best_estimator_)"
   ]
  },
  {
   "cell_type": "markdown",
   "id": "00cde09a-8f4c-4217-abf4-746bd7f35820",
   "metadata": {},
   "source": [
    "## Test on 2020-2021 Season"
   ]
  },
  {
   "cell_type": "code",
   "execution_count": 139,
   "id": "846e91f2-1783-43c1-b826-f674993fede0",
   "metadata": {},
   "outputs": [
    {
     "data": {
      "text/html": [
       "<div>\n",
       "<style scoped>\n",
       "    .dataframe tbody tr th:only-of-type {\n",
       "        vertical-align: middle;\n",
       "    }\n",
       "\n",
       "    .dataframe tbody tr th {\n",
       "        vertical-align: top;\n",
       "    }\n",
       "\n",
       "    .dataframe thead th {\n",
       "        text-align: right;\n",
       "    }\n",
       "</style>\n",
       "<table border=\"1\" class=\"dataframe\">\n",
       "  <thead>\n",
       "    <tr style=\"text-align: right;\">\n",
       "      <th></th>\n",
       "      <th>DATE</th>\n",
       "      <th>VISITOR</th>\n",
       "      <th>AWAY_PTS</th>\n",
       "      <th>HOME</th>\n",
       "      <th>HOME_PTS</th>\n",
       "      <th>ATTENDANCE</th>\n",
       "      <th>ARENA</th>\n",
       "    </tr>\n",
       "  </thead>\n",
       "  <tbody>\n",
       "    <tr>\n",
       "      <th>0</th>\n",
       "      <td>2020-12-22</td>\n",
       "      <td>Golden State Warriors</td>\n",
       "      <td>99</td>\n",
       "      <td>Brooklyn Nets</td>\n",
       "      <td>125</td>\n",
       "      <td>0.0</td>\n",
       "      <td>Barclays Center</td>\n",
       "    </tr>\n",
       "    <tr>\n",
       "      <th>1</th>\n",
       "      <td>2020-12-22</td>\n",
       "      <td>Los Angeles Clippers</td>\n",
       "      <td>116</td>\n",
       "      <td>Los Angeles Lakers</td>\n",
       "      <td>109</td>\n",
       "      <td>0.0</td>\n",
       "      <td>STAPLES Center</td>\n",
       "    </tr>\n",
       "    <tr>\n",
       "      <th>2</th>\n",
       "      <td>2020-12-23</td>\n",
       "      <td>Charlotte Hornets</td>\n",
       "      <td>114</td>\n",
       "      <td>Cleveland Cavaliers</td>\n",
       "      <td>121</td>\n",
       "      <td>300.0</td>\n",
       "      <td>Rocket Mortgage Fieldhouse</td>\n",
       "    </tr>\n",
       "    <tr>\n",
       "      <th>3</th>\n",
       "      <td>2020-12-23</td>\n",
       "      <td>New York Knicks</td>\n",
       "      <td>107</td>\n",
       "      <td>Indiana Pacers</td>\n",
       "      <td>121</td>\n",
       "      <td>0.0</td>\n",
       "      <td>Bankers Life Fieldhouse</td>\n",
       "    </tr>\n",
       "    <tr>\n",
       "      <th>4</th>\n",
       "      <td>2020-12-23</td>\n",
       "      <td>Miami Heat</td>\n",
       "      <td>107</td>\n",
       "      <td>Orlando Magic</td>\n",
       "      <td>113</td>\n",
       "      <td>3396.0</td>\n",
       "      <td>Amway Center</td>\n",
       "    </tr>\n",
       "  </tbody>\n",
       "</table>\n",
       "</div>"
      ],
      "text/plain": [
       "        DATE                VISITOR  AWAY_PTS                 HOME  HOME_PTS  \\\n",
       "0 2020-12-22  Golden State Warriors        99        Brooklyn Nets       125   \n",
       "1 2020-12-22   Los Angeles Clippers       116   Los Angeles Lakers       109   \n",
       "2 2020-12-23      Charlotte Hornets       114  Cleveland Cavaliers       121   \n",
       "3 2020-12-23        New York Knicks       107       Indiana Pacers       121   \n",
       "4 2020-12-23             Miami Heat       107        Orlando Magic       113   \n",
       "\n",
       "   ATTENDANCE                       ARENA  \n",
       "0         0.0             Barclays Center  \n",
       "1         0.0              STAPLES Center  \n",
       "2       300.0  Rocket Mortgage Fieldhouse  \n",
       "3         0.0     Bankers Life Fieldhouse  \n",
       "4      3396.0                Amway Center  "
      ]
     },
     "execution_count": 139,
     "metadata": {},
     "output_type": "execute_result"
    }
   ],
   "source": [
    "df_results_2021 = pd.read_csv('C:\\\\Users\\\\makar\\\\Final-LHL-Project\\\\data\\\\NBA_Results_20_21.csv', parse_dates = ['DATE'])\n",
    "df_results_2021.head()"
   ]
  },
  {
   "cell_type": "code",
   "execution_count": 140,
   "id": "dfc7aef1-d355-4979-a6f1-cd1b5c9f5eb2",
   "metadata": {},
   "outputs": [
    {
     "data": {
      "text/plain": [
       "DATE          datetime64[ns]\n",
       "VISITOR               object\n",
       "AWAY_PTS               int64\n",
       "HOME                  object\n",
       "HOME_PTS               int64\n",
       "ATTENDANCE           float64\n",
       "ARENA                 object\n",
       "dtype: object"
      ]
     },
     "execution_count": 140,
     "metadata": {},
     "output_type": "execute_result"
    }
   ],
   "source": [
    "df_results_2021.dtypes"
   ]
  },
  {
   "cell_type": "code",
   "execution_count": 141,
   "id": "e498ecdc-a52a-49fb-8d1f-a3ecc4d5826d",
   "metadata": {},
   "outputs": [
    {
     "data": {
      "text/plain": [
       "(1080, 7)"
      ]
     },
     "execution_count": 141,
     "metadata": {},
     "output_type": "execute_result"
    }
   ],
   "source": [
    "df_results_2021.shape"
   ]
  },
  {
   "cell_type": "code",
   "execution_count": 142,
   "id": "c0c62fa8-fe31-48bd-9dd3-63cbc0cb6fac",
   "metadata": {},
   "outputs": [],
   "source": [
    "df_results_2021['HOME_WIN'] = df_results_2021['AWAY_PTS'] < df_results_2021['HOME_PTS']\n",
    "y_test = df_results_2021['HOME_WIN'].values"
   ]
  },
  {
   "cell_type": "code",
   "execution_count": 143,
   "id": "3579a503-8a08-4812-9e61-2a54934568eb",
   "metadata": {},
   "outputs": [],
   "source": [
    "df_standings_2020 = pd.read_excel(\"C:\\\\Users\\\\makar\\\\Final-LHL-Project\\\\data\\\\NBA_Standings_19_20.xlsx\", skiprows=[0], index_col = 'Team')"
   ]
  },
  {
   "cell_type": "code",
   "execution_count": 144,
   "id": "9f4dbe6b-c2d3-4685-a25f-2e4a8cc31b96",
   "metadata": {},
   "outputs": [],
   "source": [
    "df_standings_2020.columns = ['Rank', 'Overall', 'Home', 'Road', 'Eastern Conf', 'Western Conf', \n",
    "                'Atlantic Div', 'Central Div', 'Southeast Div', 'Northwest Div', 'Pacific Div', 'Southwest Div', \n",
    "                'Pre All-Star', 'Post All-Star', 'Margin ≤3', 'Margin ≥10', 'Oct', 'Nov', 'Dec', 'Jan', 'Feb', \n",
    "                'Mar', 'Jul', 'Aug']"
   ]
  },
  {
   "cell_type": "markdown",
   "id": "6c82e804-4eeb-4065-9973-d9626da197ec",
   "metadata": {},
   "source": [
    "## Add Features \n",
    "### Home Last Win & Visitor Last Win"
   ]
  },
  {
   "cell_type": "code",
   "execution_count": 145,
   "id": "968aef30-784a-44d5-a5bc-c4943cc94936",
   "metadata": {},
   "outputs": [],
   "source": [
    "df_results_2021['HOME_LAST_WIN'] = False\n",
    "df_results_2021['VISITOR_LAST_WIN'] = False\n",
    "\n",
    "from collections import defaultdict\n",
    "\n",
    "won_last = defaultdict(int)\n",
    "\n",
    "for index, row in df_results_2021.iterrows():\n",
    "    home_team = row['HOME']\n",
    "    away_team = row['VISITOR']\n",
    "    row['HOME_LAST_WIN'] = won_last[home_team]\n",
    "    row['VISITOR_LAST_WIN'] = won_last[away_team]\n",
    "    df_results_2021.loc[index] = row\n",
    "    # Set current win\n",
    "    won_last[home_team] = row['HOME_WIN']\n",
    "    won_last[away_team] = not row['HOME_WIN']"
   ]
  },
  {
   "cell_type": "markdown",
   "id": "064c427a-190b-40c8-8d21-ee3873f90c8e",
   "metadata": {},
   "source": [
    "### Home Win Streak & Visitor Win Streak"
   ]
  },
  {
   "cell_type": "code",
   "execution_count": 146,
   "id": "1fd002e8-6c26-46e7-a92f-1bcfcef0f797",
   "metadata": {},
   "outputs": [],
   "source": [
    "# Create two columns for home and visitor win streaks\n",
    "df_results_2021['HOME_WIN_STREAK'] = 0\n",
    "df_results_2021['VISITOR_WIN_STREAK'] = 0\n",
    "\n",
    "from collections import defaultdict\n",
    "win_streak = defaultdict(int)\n",
    "\n",
    "for index, row in df_results_2021.iterrows():  \n",
    "    home_team = row['HOME']\n",
    "    visitor_team = row['VISITOR']\n",
    "    row['HOME_WIN_STREAK'] = win_streak[home_team]\n",
    "    row['VISITOR_WIN_STREAK'] = win_streak[visitor_team]\n",
    "    df_results_2021.loc[index] = row    \n",
    "    \n",
    "    # Set current win streak\n",
    "    if row['HOME_WIN']:\n",
    "        win_streak[home_team] += 1\n",
    "        win_streak[visitor_team] = 0\n",
    "    else:\n",
    "        win_streak[home_team] = 0\n",
    "        win_streak[visitor_team] += 1"
   ]
  },
  {
   "cell_type": "markdown",
   "id": "e065f68e-38ce-431e-8ea3-bbd8cdde1f3c",
   "metadata": {},
   "source": [
    "### Home Team Ranks Higher"
   ]
  },
  {
   "cell_type": "code",
   "execution_count": 147,
   "id": "996f0e05-038c-4125-9ba5-c3a54c316175",
   "metadata": {},
   "outputs": [],
   "source": [
    "df_results_2021['HOME_RANK_HIGHER'] = df_results_2021.apply(home_team_ranks_higher, axis = 1)"
   ]
  },
  {
   "cell_type": "markdown",
   "id": "76933dc6-7d2c-4651-9a09-c3596280548d",
   "metadata": {},
   "source": [
    "### Home Team Won Last"
   ]
  },
  {
   "cell_type": "code",
   "execution_count": 148,
   "id": "c451eb4d-55ae-42b6-95f3-3115409aa008",
   "metadata": {},
   "outputs": [],
   "source": [
    "df_results_2021['HOME_TEAM_WON_LAST'] = df_results_2021.apply(home_team_won_last, axis=1)"
   ]
  },
  {
   "cell_type": "markdown",
   "id": "12274b71-d2e4-40cf-9e05-460b9215e2e1",
   "metadata": {},
   "source": [
    "### Encode Team Names"
   ]
  },
  {
   "cell_type": "code",
   "execution_count": 149,
   "id": "f9b141ab-2731-4647-85fd-666e2c296e42",
   "metadata": {},
   "outputs": [
    {
     "data": {
      "text/html": [
       "<style>#sk-container-id-5 {color: black;background-color: white;}#sk-container-id-5 pre{padding: 0;}#sk-container-id-5 div.sk-toggleable {background-color: white;}#sk-container-id-5 label.sk-toggleable__label {cursor: pointer;display: block;width: 100%;margin-bottom: 0;padding: 0.3em;box-sizing: border-box;text-align: center;}#sk-container-id-5 label.sk-toggleable__label-arrow:before {content: \"▸\";float: left;margin-right: 0.25em;color: #696969;}#sk-container-id-5 label.sk-toggleable__label-arrow:hover:before {color: black;}#sk-container-id-5 div.sk-estimator:hover label.sk-toggleable__label-arrow:before {color: black;}#sk-container-id-5 div.sk-toggleable__content {max-height: 0;max-width: 0;overflow: hidden;text-align: left;background-color: #f0f8ff;}#sk-container-id-5 div.sk-toggleable__content pre {margin: 0.2em;color: black;border-radius: 0.25em;background-color: #f0f8ff;}#sk-container-id-5 input.sk-toggleable__control:checked~div.sk-toggleable__content {max-height: 200px;max-width: 100%;overflow: auto;}#sk-container-id-5 input.sk-toggleable__control:checked~label.sk-toggleable__label-arrow:before {content: \"▾\";}#sk-container-id-5 div.sk-estimator input.sk-toggleable__control:checked~label.sk-toggleable__label {background-color: #d4ebff;}#sk-container-id-5 div.sk-label input.sk-toggleable__control:checked~label.sk-toggleable__label {background-color: #d4ebff;}#sk-container-id-5 input.sk-hidden--visually {border: 0;clip: rect(1px 1px 1px 1px);clip: rect(1px, 1px, 1px, 1px);height: 1px;margin: -1px;overflow: hidden;padding: 0;position: absolute;width: 1px;}#sk-container-id-5 div.sk-estimator {font-family: monospace;background-color: #f0f8ff;border: 1px dotted black;border-radius: 0.25em;box-sizing: border-box;margin-bottom: 0.5em;}#sk-container-id-5 div.sk-estimator:hover {background-color: #d4ebff;}#sk-container-id-5 div.sk-parallel-item::after {content: \"\";width: 100%;border-bottom: 1px solid gray;flex-grow: 1;}#sk-container-id-5 div.sk-label:hover label.sk-toggleable__label {background-color: #d4ebff;}#sk-container-id-5 div.sk-serial::before {content: \"\";position: absolute;border-left: 1px solid gray;box-sizing: border-box;top: 0;bottom: 0;left: 50%;z-index: 0;}#sk-container-id-5 div.sk-serial {display: flex;flex-direction: column;align-items: center;background-color: white;padding-right: 0.2em;padding-left: 0.2em;position: relative;}#sk-container-id-5 div.sk-item {position: relative;z-index: 1;}#sk-container-id-5 div.sk-parallel {display: flex;align-items: stretch;justify-content: center;background-color: white;position: relative;}#sk-container-id-5 div.sk-item::before, #sk-container-id-5 div.sk-parallel-item::before {content: \"\";position: absolute;border-left: 1px solid gray;box-sizing: border-box;top: 0;bottom: 0;left: 50%;z-index: -1;}#sk-container-id-5 div.sk-parallel-item {display: flex;flex-direction: column;z-index: 1;position: relative;background-color: white;}#sk-container-id-5 div.sk-parallel-item:first-child::after {align-self: flex-end;width: 50%;}#sk-container-id-5 div.sk-parallel-item:last-child::after {align-self: flex-start;width: 50%;}#sk-container-id-5 div.sk-parallel-item:only-child::after {width: 0;}#sk-container-id-5 div.sk-dashed-wrapped {border: 1px dashed gray;margin: 0 0.4em 0.5em 0.4em;box-sizing: border-box;padding-bottom: 0.4em;background-color: white;}#sk-container-id-5 div.sk-label label {font-family: monospace;font-weight: bold;display: inline-block;line-height: 1.2em;}#sk-container-id-5 div.sk-label-container {text-align: center;}#sk-container-id-5 div.sk-container {/* jupyter's `normalize.less` sets `[hidden] { display: none; }` but bootstrap.min.css set `[hidden] { display: none !important; }` so we also need the `!important` here to be able to override the default hidden behavior on the sphinx rendered scikit-learn.org. See: https://github.com/scikit-learn/scikit-learn/issues/21755 */display: inline-block !important;position: relative;}#sk-container-id-5 div.sk-text-repr-fallback {display: none;}</style><div id=\"sk-container-id-5\" class=\"sk-top-container\"><div class=\"sk-text-repr-fallback\"><pre>LabelEncoder()</pre><b>In a Jupyter environment, please rerun this cell to show the HTML representation or trust the notebook. <br />On GitHub, the HTML representation is unable to render, please try loading this page with nbviewer.org.</b></div><div class=\"sk-container\" hidden><div class=\"sk-item\"><div class=\"sk-estimator sk-toggleable\"><input class=\"sk-toggleable__control sk-hidden--visually\" id=\"sk-estimator-id-7\" type=\"checkbox\" checked><label for=\"sk-estimator-id-7\" class=\"sk-toggleable__label sk-toggleable__label-arrow\">LabelEncoder</label><div class=\"sk-toggleable__content\"><pre>LabelEncoder()</pre></div></div></div></div></div>"
      ],
      "text/plain": [
       "LabelEncoder()"
      ]
     },
     "execution_count": 149,
     "metadata": {},
     "output_type": "execute_result"
    }
   ],
   "source": [
    "encoding.fit(df_results_2021['HOME'].values)"
   ]
  },
  {
   "cell_type": "code",
   "execution_count": 150,
   "id": "00df6702-0302-46aa-88d4-8804930d8cb9",
   "metadata": {},
   "outputs": [],
   "source": [
    "home_teams_21 = encoding.transform(df_results_2021['HOME'].values)\n",
    "visitor_teams_21 = encoding.transform(df_results_2021['VISITOR'].values)\n",
    "\n",
    "X_teams_21 = np.vstack([home_teams_21, visitor_teams_21]).T\n",
    "X_teams_21 = onehot.transform(X_teams_21).todense()"
   ]
  },
  {
   "cell_type": "code",
   "execution_count": 151,
   "id": "3df44aea-587d-4b08-b69b-39574012dfe9",
   "metadata": {},
   "outputs": [],
   "source": [
    "X_home_higher_21 = df_results_2021[['HOME_LAST_WIN', 'VISITOR_LAST_WIN', 'HOME_RANK_HIGHER', 'HOME_TEAM_WON_LAST']].values"
   ]
  },
  {
   "cell_type": "code",
   "execution_count": 152,
   "id": "54f37eae-9f15-4bf0-8ec5-28b24fcc84e4",
   "metadata": {},
   "outputs": [
    {
     "data": {
      "text/plain": [
       "(1080, 64)"
      ]
     },
     "execution_count": 152,
     "metadata": {},
     "output_type": "execute_result"
    }
   ],
   "source": [
    "X_all_21 = np.hstack([X_home_higher_21, X_teams_21])\n",
    "X_all_21.shape"
   ]
  },
  {
   "cell_type": "markdown",
   "id": "c05a1fe1-0541-43d8-9d18-a4271a242de0",
   "metadata": {},
   "source": [
    "## Baseline Model"
   ]
  },
  {
   "cell_type": "code",
   "execution_count": 153,
   "id": "680900c4-04dd-4a99-8719-146450af4e6f",
   "metadata": {},
   "outputs": [
    {
     "name": "stdout",
     "output_type": "stream",
     "text": [
      "The home team wins 54.35% of the games\n",
      "F1: 0.3828\n",
      "              precision    recall  f1-score   support\n",
      "\n",
      "       False       0.00      0.00      0.00       493\n",
      "        True       0.54      1.00      0.70       587\n",
      "\n",
      "    accuracy                           0.54      1080\n",
      "   macro avg       0.27      0.50      0.35      1080\n",
      "weighted avg       0.30      0.54      0.38      1080\n",
      "\n"
     ]
    }
   ],
   "source": [
    "print('The home team wins {:.2f}% of the games'.format(100 * np.mean(y_test)))\n",
    "\n",
    "y_pred = [1] * len(y_test)\n",
    "\n",
    "print('F1: {:.4f}'.format(f1_score(y_test, y_pred, pos_label = None, average = 'weighted')))\n",
    "print(classification_report(y_test, y_pred))"
   ]
  },
  {
   "cell_type": "code",
   "execution_count": 154,
   "id": "608c8322-2a31-4286-81d5-ca68d0af4237",
   "metadata": {},
   "outputs": [
    {
     "data": {
      "text/html": [
       "<style>#sk-container-id-6 {color: black;background-color: white;}#sk-container-id-6 pre{padding: 0;}#sk-container-id-6 div.sk-toggleable {background-color: white;}#sk-container-id-6 label.sk-toggleable__label {cursor: pointer;display: block;width: 100%;margin-bottom: 0;padding: 0.3em;box-sizing: border-box;text-align: center;}#sk-container-id-6 label.sk-toggleable__label-arrow:before {content: \"▸\";float: left;margin-right: 0.25em;color: #696969;}#sk-container-id-6 label.sk-toggleable__label-arrow:hover:before {color: black;}#sk-container-id-6 div.sk-estimator:hover label.sk-toggleable__label-arrow:before {color: black;}#sk-container-id-6 div.sk-toggleable__content {max-height: 0;max-width: 0;overflow: hidden;text-align: left;background-color: #f0f8ff;}#sk-container-id-6 div.sk-toggleable__content pre {margin: 0.2em;color: black;border-radius: 0.25em;background-color: #f0f8ff;}#sk-container-id-6 input.sk-toggleable__control:checked~div.sk-toggleable__content {max-height: 200px;max-width: 100%;overflow: auto;}#sk-container-id-6 input.sk-toggleable__control:checked~label.sk-toggleable__label-arrow:before {content: \"▾\";}#sk-container-id-6 div.sk-estimator input.sk-toggleable__control:checked~label.sk-toggleable__label {background-color: #d4ebff;}#sk-container-id-6 div.sk-label input.sk-toggleable__control:checked~label.sk-toggleable__label {background-color: #d4ebff;}#sk-container-id-6 input.sk-hidden--visually {border: 0;clip: rect(1px 1px 1px 1px);clip: rect(1px, 1px, 1px, 1px);height: 1px;margin: -1px;overflow: hidden;padding: 0;position: absolute;width: 1px;}#sk-container-id-6 div.sk-estimator {font-family: monospace;background-color: #f0f8ff;border: 1px dotted black;border-radius: 0.25em;box-sizing: border-box;margin-bottom: 0.5em;}#sk-container-id-6 div.sk-estimator:hover {background-color: #d4ebff;}#sk-container-id-6 div.sk-parallel-item::after {content: \"\";width: 100%;border-bottom: 1px solid gray;flex-grow: 1;}#sk-container-id-6 div.sk-label:hover label.sk-toggleable__label {background-color: #d4ebff;}#sk-container-id-6 div.sk-serial::before {content: \"\";position: absolute;border-left: 1px solid gray;box-sizing: border-box;top: 0;bottom: 0;left: 50%;z-index: 0;}#sk-container-id-6 div.sk-serial {display: flex;flex-direction: column;align-items: center;background-color: white;padding-right: 0.2em;padding-left: 0.2em;position: relative;}#sk-container-id-6 div.sk-item {position: relative;z-index: 1;}#sk-container-id-6 div.sk-parallel {display: flex;align-items: stretch;justify-content: center;background-color: white;position: relative;}#sk-container-id-6 div.sk-item::before, #sk-container-id-6 div.sk-parallel-item::before {content: \"\";position: absolute;border-left: 1px solid gray;box-sizing: border-box;top: 0;bottom: 0;left: 50%;z-index: -1;}#sk-container-id-6 div.sk-parallel-item {display: flex;flex-direction: column;z-index: 1;position: relative;background-color: white;}#sk-container-id-6 div.sk-parallel-item:first-child::after {align-self: flex-end;width: 50%;}#sk-container-id-6 div.sk-parallel-item:last-child::after {align-self: flex-start;width: 50%;}#sk-container-id-6 div.sk-parallel-item:only-child::after {width: 0;}#sk-container-id-6 div.sk-dashed-wrapped {border: 1px dashed gray;margin: 0 0.4em 0.5em 0.4em;box-sizing: border-box;padding-bottom: 0.4em;background-color: white;}#sk-container-id-6 div.sk-label label {font-family: monospace;font-weight: bold;display: inline-block;line-height: 1.2em;}#sk-container-id-6 div.sk-label-container {text-align: center;}#sk-container-id-6 div.sk-container {/* jupyter's `normalize.less` sets `[hidden] { display: none; }` but bootstrap.min.css set `[hidden] { display: none !important; }` so we also need the `!important` here to be able to override the default hidden behavior on the sphinx rendered scikit-learn.org. See: https://github.com/scikit-learn/scikit-learn/issues/21755 */display: inline-block !important;position: relative;}#sk-container-id-6 div.sk-text-repr-fallback {display: none;}</style><div id=\"sk-container-id-6\" class=\"sk-top-container\"><div class=\"sk-text-repr-fallback\"><pre>GridSearchCV(estimator=RandomForestClassifier(random_state=14),\n",
       "             param_grid={&#x27;criterion&#x27;: [&#x27;gini&#x27;, &#x27;entropy&#x27;],\n",
       "                         &#x27;max_features&#x27;: [2, 10, 50, &#x27;auto&#x27;],\n",
       "                         &#x27;min_samples_leaf&#x27;: [1, 2, 4, 6],\n",
       "                         &#x27;n_estimators&#x27;: [50, 100, 200]},\n",
       "             scoring=make_scorer(f1_score, pos_label=None, average=weighted))</pre><b>In a Jupyter environment, please rerun this cell to show the HTML representation or trust the notebook. <br />On GitHub, the HTML representation is unable to render, please try loading this page with nbviewer.org.</b></div><div class=\"sk-container\" hidden><div class=\"sk-item sk-dashed-wrapped\"><div class=\"sk-label-container\"><div class=\"sk-label sk-toggleable\"><input class=\"sk-toggleable__control sk-hidden--visually\" id=\"sk-estimator-id-8\" type=\"checkbox\" ><label for=\"sk-estimator-id-8\" class=\"sk-toggleable__label sk-toggleable__label-arrow\">GridSearchCV</label><div class=\"sk-toggleable__content\"><pre>GridSearchCV(estimator=RandomForestClassifier(random_state=14),\n",
       "             param_grid={&#x27;criterion&#x27;: [&#x27;gini&#x27;, &#x27;entropy&#x27;],\n",
       "                         &#x27;max_features&#x27;: [2, 10, 50, &#x27;auto&#x27;],\n",
       "                         &#x27;min_samples_leaf&#x27;: [1, 2, 4, 6],\n",
       "                         &#x27;n_estimators&#x27;: [50, 100, 200]},\n",
       "             scoring=make_scorer(f1_score, pos_label=None, average=weighted))</pre></div></div></div><div class=\"sk-parallel\"><div class=\"sk-parallel-item\"><div class=\"sk-item\"><div class=\"sk-label-container\"><div class=\"sk-label sk-toggleable\"><input class=\"sk-toggleable__control sk-hidden--visually\" id=\"sk-estimator-id-9\" type=\"checkbox\" ><label for=\"sk-estimator-id-9\" class=\"sk-toggleable__label sk-toggleable__label-arrow\">estimator: RandomForestClassifier</label><div class=\"sk-toggleable__content\"><pre>RandomForestClassifier(random_state=14)</pre></div></div></div><div class=\"sk-serial\"><div class=\"sk-item\"><div class=\"sk-estimator sk-toggleable\"><input class=\"sk-toggleable__control sk-hidden--visually\" id=\"sk-estimator-id-10\" type=\"checkbox\" ><label for=\"sk-estimator-id-10\" class=\"sk-toggleable__label sk-toggleable__label-arrow\">RandomForestClassifier</label><div class=\"sk-toggleable__content\"><pre>RandomForestClassifier(random_state=14)</pre></div></div></div></div></div></div></div></div></div></div>"
      ],
      "text/plain": [
       "GridSearchCV(estimator=RandomForestClassifier(random_state=14),\n",
       "             param_grid={'criterion': ['gini', 'entropy'],\n",
       "                         'max_features': [2, 10, 50, 'auto'],\n",
       "                         'min_samples_leaf': [1, 2, 4, 6],\n",
       "                         'n_estimators': [50, 100, 200]},\n",
       "             scoring=make_scorer(f1_score, pos_label=None, average=weighted))"
      ]
     },
     "execution_count": 154,
     "metadata": {},
     "output_type": "execute_result"
    }
   ],
   "source": [
    "grid.fit(X_all_21, y_test)"
   ]
  },
  {
   "cell_type": "code",
   "execution_count": 155,
   "id": "856c5817-b8c7-4b8d-b3e8-187f6250f46c",
   "metadata": {},
   "outputs": [],
   "source": [
    "y_pred = grid.predict(X_all_21)"
   ]
  },
  {
   "cell_type": "code",
   "execution_count": 156,
   "id": "236a121d-2b91-4ac2-99ed-ffbf2e1847e1",
   "metadata": {},
   "outputs": [
    {
     "name": "stdout",
     "output_type": "stream",
     "text": [
      "              precision    recall  f1-score   support\n",
      "\n",
      "       False       0.73      0.69      0.71       493\n",
      "        True       0.75      0.79      0.77       587\n",
      "\n",
      "    accuracy                           0.74      1080\n",
      "   macro avg       0.74      0.74      0.74      1080\n",
      "weighted avg       0.74      0.74      0.74      1080\n",
      "\n"
     ]
    }
   ],
   "source": [
    "print(classification_report(y_test, y_pred))"
   ]
  },
  {
   "cell_type": "code",
   "execution_count": 157,
   "id": "56169273-457d-4ce5-9c2e-b202aaced809",
   "metadata": {},
   "outputs": [
    {
     "name": "stdout",
     "output_type": "stream",
     "text": [
      "This results in getting 74.1% of predictions correct.\n"
     ]
    }
   ],
   "source": [
    "print('This results in getting {:.1f}% of predictions correct.'.format(100 * np.mean(y_pred == y_test)))"
   ]
  },
  {
   "cell_type": "code",
   "execution_count": 163,
   "id": "339996b1-c2cb-4534-b584-38651e5cfd5a",
   "metadata": {},
   "outputs": [],
   "source": [
    "import itertools"
   ]
  },
  {
   "cell_type": "code",
   "execution_count": 164,
   "id": "aa71f713-aa83-4d22-90b7-6a91ea3cc13d",
   "metadata": {},
   "outputs": [],
   "source": [
    "def plot_confusion_matrix(cm, classes, title='Confusion Matrix', cmap=plt.cm.Blues):\n",
    "    plt.imshow(cm, interpolation='nearest', cmap=cmap)\n",
    "    plt.title(title)\n",
    "    plt.colorbar()\n",
    "    tick_marks = np.arange(len(classes))\n",
    "    plt.xticks(tick_marks, classes, rotation=45)\n",
    "    plt.yticks(tick_marks, classes)\n",
    "    plt.grid(visible=False)\n",
    "\n",
    "    cm_norm = cm.astype('float') / cm.sum(axis=1)[:, np.newaxis]\n",
    "    thresh = cm.max() / 2\n",
    "    \n",
    "    for i, j in itertools.product(range(cm.shape[0]), range(cm.shape[1])):\n",
    "        plt.text(j, i, '%d\\n%.2f%%' % (cm[i, j], cm_norm[i, j]*100),\n",
    "                 horizontalalignment='center', color='white' if cm[i, j] > thresh else 'black')\n",
    "\n",
    "    plt.tight_layout()\n",
    "    plt.ylabel('True Label')\n",
    "    plt.xlabel('Predicted Label')\n",
    "    plt.show()"
   ]
  },
  {
   "cell_type": "code",
   "execution_count": 165,
   "id": "3e12615d-f1c5-42e1-94e9-48dbe74d3a39",
   "metadata": {},
   "outputs": [
    {
     "data": {
      "image/png": "[encoded data removed]",
      "text/plain": [
       "<Figure size 432x288 with 2 Axes>"
      ]
     },
     "metadata": {
      "needs_background": "light"
     },
     "output_type": "display_data"
    }
   ],
   "source": [
    "plot_confusion_matrix(confusion_matrix(y_test, y_pred), ['Loss', 'Win'])"
   ]
  },
  {
   "cell_type": "code",
   "execution_count": null,
   "id": "1ccd9758-695f-4f8b-8a49-5b0b781211a2",
   "metadata": {},
   "outputs": [],
   "source": []
  }
 ],
 "metadata": {
  "kernelspec": {
   "display_name": "Python 3 (ipykernel)",
   "language": "python",
   "name": "python3"
  },
  "language_info": {
   "codemirror_mode": {
    "name": "ipython",
    "version": 3
   },
   "file_extension": ".py",
   "mimetype": "text/x-python",
   "name": "python",
   "nbconvert_exporter": "python",
   "pygments_lexer": "ipython3",
   "version": "3.9.7"
  }
 },
 "nbformat": 4,
 "nbformat_minor": 5
}
